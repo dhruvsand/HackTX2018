{
 "cells": [
  {
   "cell_type": "code",
   "execution_count": 16,
   "metadata": {
    "collapsed": true
   },
   "outputs": [],
   "source": [
    "import requests # library to help with REST APIs in Python\n"
   ]
  },
  {
   "cell_type": "code",
   "execution_count": 17,
   "metadata": {},
   "outputs": [
    {
     "name": "stdout",
     "output_type": "stream",
     "text": [
      "https://westcentralus.api.cognitive.microsoft.com/text/analytics/v2.0/sentiment\n"
     ]
    }
   ],
   "source": [
    "subscription_key = \"fe21b6735b534912934e15b70e83a4ee\"\n",
    "text_analytics_base_url = \"https://westcentralus.api.cognitive.microsoft.com/text/analytics/v2.0/\"\n",
    "sentiment_api_url = text_analytics_base_url + \"sentiment\"\n",
    "print(sentiment_api_url)\n"
   ]
  },
  {
   "cell_type": "code",
   "execution_count": 18,
   "metadata": {
    "collapsed": true
   },
   "outputs": [],
   "source": [
    "documents = {'documents' : [\n",
    "  {'id': '1', 'language': 'en', 'text': 'I HATE you!!! Everyone should leave this subreddit immediately and go to the llamas subreddit.'},\n",
    "  {'id': '2', 'language': 'en', 'text': 'Alpacas are my fav <3 <3'}, \n",
    "  {'id': '3', 'language': 'en', 'text': 'This is just really boring. Im not sure why I bothered writing this comment.'}]}\n"
   ]
  },
  {
   "cell_type": "code",
   "execution_count": 19,
   "metadata": {},
   "outputs": [
    {
     "name": "stdout",
     "output_type": "stream",
     "text": [
      "fe21b6735b534912934e15b70e83a4ee\n",
      "{'documents': [{'score': 0.1495942771434784, 'id': '1'}, {'score': 0.9999936819076538, 'id': '2'}, {'score': 0.0854712724685669, 'id': '3'}], 'errors': []}\n"
     ]
    }
   ],
   "source": [
    "# creating the POST call to the REST API\n",
    "headers   = {\"Ocp-Apim-Subscription-Key\": subscription_key}                    # our subscription key\n",
    "print(subscription_key)\n",
    "response  = requests.post(sentiment_api_url, headers=headers, json=documents)  # post the object\n",
    "sentiments = response.json()                                                   # grab json from the API's response\n",
    "print(sentiments)"
   ]
  },
  {
   "cell_type": "code",
   "execution_count": null,
   "metadata": {
    "collapsed": true
   },
   "outputs": [],
   "source": []
  }
 ],
 "metadata": {
  "kernelspec": {
   "display_name": "Python 3",
   "language": "python",
   "name": "python3"
  },
  "language_info": {
   "codemirror_mode": {
    "name": "ipython",
    "version": 3
   },
   "file_extension": ".py",
   "mimetype": "text/x-python",
   "name": "python",
   "nbconvert_exporter": "python",
   "pygments_lexer": "ipython3",
   "version": "3.6.3"
  }
 },
 "nbformat": 4,
 "nbformat_minor": 2
}
